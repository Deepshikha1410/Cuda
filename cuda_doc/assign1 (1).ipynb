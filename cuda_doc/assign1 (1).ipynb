{
  "cells": [
    {
      "cell_type": "markdown",
      "metadata": {
        "id": "Cz-cxlMZY5IG"
      },
      "source": [
        "Ques3"
      ]
    },
    {
      "cell_type": "code",
      "execution_count": 14,
      "metadata": {
        "colab": {
          "base_uri": "https://localhost:8080/"
        },
        "id": "bpm_76T8Y7NQ",
        "outputId": "93ca1da6-f403-44f4-e783-73742a601f4d"
      },
      "outputs": [
        {
          "name": "stdout",
          "output_type": "stream",
          "text": [
            "Writing abcd.cu\n"
          ]
        }
      ],
      "source": [
        "%%writefile abcd.cu\n",
        "#include <cuda.h>\n",
        "#include <cuda_runtime.h>\n",
        "#include <stdio.h>\n",
        "#include <time.h>\n",
        "\n",
        "__global__ void doubleValue(float *a, float *c, int M, int N) {\n",
        "    int row = blockIdx.y * blockDim.y + threadIdx.y;\n",
        "    int col = blockIdx.x * blockDim.x + threadIdx.x;\n",
        "\n",
        "    int idx = row * N + col;\n",
        "\n",
        "    if (row < M && col < N) {\n",
        "        c[idx] = a[idx] * 2.0f; // Double the value\n",
        "        c[idx] = c[idx] * c[idx]; // Square the value\n",
        "    }\n",
        "}\n",
        "\n",
        "int main() {\n",
        "    int M = 1000000; // Number of rows\n",
        "    int N = 1; // Number of columns (since we have 1D array)\n",
        "\n",
        "    // Allocate host memory for arrays a and c\n",
        "    float *h_a, *h_c;\n",
        "    h_a = (float *)malloc(M * N * sizeof(float));\n",
        "    h_c = (float *)malloc(M * N * sizeof(float));\n",
        "    if (h_a == nullptr || h_c == nullptr) {\n",
        "        fprintf(stderr, \"Failed to allocate host memory!\\n\");\n",
        "        return 1;\n",
        "    }\n",
        "\n",
        "    // Initialize array a with sample values (replace with your initialization logic)\n",
        "    for (int i = 0; i < M; i++) {\n",
        "        h_a[i] = i + 0.5f; // Example initialization\n",
        "    }\n",
        "\n",
        "    // Allocate device memory for arrays a and c\n",
        "    float *d_a, *d_c;\n",
        "    cudaMalloc((void **)&d_a, M * N * sizeof(float));\n",
        "    cudaMalloc((void **)&d_c, M * N * sizeof(float));\n",
        "    if (d_a == nullptr || d_c == nullptr) {\n",
        "        fprintf(stderr, \"Failed to allocate device memory!\\n\");\n",
        "        cudaFree(h_a);\n",
        "        cudaFree(h_c);\n",
        "        return 1;\n",
        "    }\n",
        "\n",
        "    // Copy data from host to device memory\n",
        "    cudaMemcpy(d_a, h_a, M * N * sizeof(float), cudaMemcpyHostToDevice);\n",
        "    cudaDeviceSynchronize(); // Ensure data transfer is complete\n",
        "\n",
        "    // Define kernel launch parameters\n",
        "    int threadsPerBlock = 256; // Adjust based on your GPU architecture\n",
        "    dim3 blocksInGrid(ceil(float(M) / threadsPerBlock));\n",
        "\n",
        "    // Start timing\n",
        "    clock_t start = clock();\n",
        "\n",
        "    // Launch the kernel\n",
        "    doubleValue<<<blocksInGrid, threadsPerBlock>>>(d_a, d_c, M, N);\n",
        "\n",
        "    // Wait for kernel execution to finish\n",
        "    cudaDeviceSynchronize();\n",
        "\n",
        "    // Stop timing\n",
        "    clock_t end = clock();\n",
        "    double time_taken = (double)(end - start) / CLOCKS_PER_SEC;\n",
        "\n",
        "    printf(\"Time taken: %f seconds\\n\", time_taken);\n",
        "\n",
        "    // Copy results from device to host memory\n",
        "    cudaMemcpy(h_c, d_c, M * N * sizeof(float), cudaMemcpyDeviceToHost);\n",
        "\n",
        "    // Free device memory\n",
        "    cudaFree(d_a);\n",
        "    cudaFree(d_c);\n",
        "\n",
        "    // Free host memory\n",
        "    free(h_a);\n",
        "    free(h_c);\n",
        "\n",
        "    // Optional: Print the results on the host (if h_c was allocated)\n",
        "    // for (int i = 0; i < M; i++) {\n",
        "    //     printf(\"%f \", h_c[i]);\n",
        "    //     printf(\"\\n\");\n",
        "    // }\n",
        "\n",
        "    return 0;\n",
        "}"
      ]
    },
    {
      "cell_type": "code",
      "execution_count": 15,
      "metadata": {
        "id": "v-qO6cT8aDGD"
      },
      "outputs": [],
      "source": [
        "!nvcc -o abcd abcd.cu"
      ]
    },
    {
      "cell_type": "code",
      "execution_count": 18,
      "metadata": {
        "colab": {
          "base_uri": "https://localhost:8080/"
        },
        "id": "0Endj8QhaIDc",
        "outputId": "87572383-0130-4b24-eee7-283be410f49e"
      },
      "outputs": [
        {
          "name": "stdout",
          "output_type": "stream",
          "text": [
            "Time taken: 0.059071 seconds\n"
          ]
        }
      ],
      "source": [
        "!./abcd"
      ]
    }
  ],
  "metadata": {
    "accelerator": "GPU",
    "colab": {
      "gpuType": "T4",
      "provenance": []
    },
    "kernelspec": {
      "display_name": "Python 3",
      "name": "python3"
    },
    "language_info": {
      "name": "python"
    }
  },
  "nbformat": 4,
  "nbformat_minor": 0
}
