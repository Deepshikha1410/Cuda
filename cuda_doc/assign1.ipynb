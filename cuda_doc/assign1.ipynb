{
  "nbformat": 4,
  "nbformat_minor": 0,
  "metadata": {
    "colab": {
      "provenance": [],
      "gpuType": "T4"
    },
    "kernelspec": {
      "name": "python3",
      "display_name": "Python 3"
    },
    "language_info": {
      "name": "python"
    },
    "accelerator": "GPU"
  },
  "cells": [
    {
      "cell_type": "markdown",
      "source": [
        "2D array addition"
      ],
      "metadata": {
        "id": "Mwfw84ilVbrb"
      }
    },
    {
      "cell_type": "code",
      "execution_count": 3,
      "metadata": {
        "colab": {
          "base_uri": "https://localhost:8080/"
        },
        "id": "J1oFfB-hTsdV",
        "outputId": "afac2f76-a195-449f-9547-c30c2bc210a3"
      },
      "outputs": [
        {
          "output_type": "stream",
          "name": "stdout",
          "text": [
            "Overwriting addition.cu\n"
          ]
        }
      ],
      "source": [
        "%%writefile addition.cu\n",
        "#include <cuda.h>\n",
        "#include <cuda_runtime.h>\n",
        "#include <stdio.h>\n",
        "\n",
        "__global__ void add_arrays(int *a, int *b, int *c, int M, int N) {\n",
        "    int row = blockIdx.y * blockDim.y + threadIdx.y;\n",
        "    int col = blockIdx.x * blockDim.x + threadIdx.x;\n",
        "\n",
        "    int idx = row * N + col;\n",
        "\n",
        "    if (row < M && col < N) {\n",
        "        c[idx] = a[idx] + b[idx];\n",
        "    }\n",
        "}\n",
        "\n",
        "int main() {\n",
        "    int M = 10; // Number of rows\n",
        "    int N = 10; // Number of columns\n",
        "\n",
        "    // Allocate host memory for arrays a and b\n",
        "    int *h_a, *h_b;\n",
        "    h_a = (int *)malloc(M * N * sizeof(int));\n",
        "    h_b = (int *)malloc(M * N * sizeof(int));\n",
        "    if (h_a == nullptr || h_b == nullptr) {\n",
        "        fprintf(stderr, \"Failed to allocate host memory!\\n\");\n",
        "        return 1;\n",
        "    }\n",
        "\n",
        "    // Initialize arrays a and b with sample values (replace with your initialization logic)\n",
        "    for (int i = 0; i < M; i++) {\n",
        "        for (int j = 0; j < N; j++) {\n",
        "            h_a[i * N + j] = i * j;\n",
        "            h_b[i * N + j] = i + j;\n",
        "        }\n",
        "    }\n",
        "\n",
        "    // Allocate device memory for arrays a, b, and c\n",
        "    int *d_a, *d_b, *d_c;\n",
        "    cudaMalloc((void **)&d_a, M * N * sizeof(int));\n",
        "    cudaMalloc((void **)&d_b, M * N * sizeof(int));\n",
        "    cudaMalloc((void **)&d_c, M * N * sizeof(int));\n",
        "    if (d_a == nullptr || d_b == nullptr || d_c == nullptr) {\n",
        "        fprintf(stderr, \"Failed to allocate device memory!\\n\");\n",
        "        cudaFree(h_a);\n",
        "        cudaFree(h_b);\n",
        "        return 1;\n",
        "    }\n",
        "\n",
        "    // Copy data from host to device memory\n",
        "    cudaMemcpy(d_a, h_a, M * N * sizeof(int), cudaMemcpyHostToDevice);\n",
        "    cudaMemcpy(d_b, h_b, M * N * sizeof(int), cudaMemcpyHostToDevice);\n",
        "    cudaDeviceSynchronize(); // Ensure data transfer is complete\n",
        "\n",
        "    // Define kernel launch parameters\n",
        "    int threadsPerBlock = 256; // Adjust based on your GPU architecture\n",
        "    dim3 blocksInGrid(ceil(float(N) / threadsPerBlock), ceil(float(M) / threadsPerBlock));\n",
        "\n",
        "    // Launch the kernel\n",
        "    add_arrays<<<blocksInGrid, threadsPerBlock>>>(d_a, d_b, d_c, M, N);\n",
        "\n",
        "    // Wait for kernel execution to finish\n",
        "    cudaDeviceSynchronize();\n",
        "\n",
        "    // Optional: Copy results from device to host memory\n",
        "    // int *h_c;\n",
        "    // h_c = (int *)malloc(M * N * sizeof(int));\n",
        "    // cudaMemcpy(h_c, d_c, M * N * sizeof(int), cudaMemcpyDeviceToHost);\n",
        "\n",
        "    // Free device memory\n",
        "    cudaFree(d_a);\n",
        "    cudaFree(d_b);\n",
        "    cudaFree(d_c);\n",
        "\n",
        "    // Free host memory\n",
        "    free(h_a);\n",
        "    free(h_b);\n",
        "\n",
        "    // Optional: Print the results on the host (if h_c was allocated)\n",
        "    // for (int i = 0; i < M; i++) {\n",
        "    //     for (int j = 0; j < N; j++) {\n",
        "    //         printf(\"%d \", h_c[i * N + j]);\n",
        "    //     }\n",
        "    //     printf(\"\\n\");\n",
        "    // }\n",
        "\n",
        "    return 0;\n",
        "}\n"
      ]
    },
    {
      "cell_type": "code",
      "source": [
        "!nvcc -o addition addition.cu"
      ],
      "metadata": {
        "id": "8xLbKr7XV_XC"
      },
      "execution_count": 4,
      "outputs": []
    },
    {
      "cell_type": "code",
      "source": [
        "!./a.out"
      ],
      "metadata": {
        "colab": {
          "base_uri": "https://localhost:8080/"
        },
        "id": "7FzvRmiJWntl",
        "outputId": "6ca63594-27d5-4cbf-ca36-b0ec4a15642d"
      },
      "execution_count": 13,
      "outputs": [
        {
          "output_type": "stream",
          "name": "stdout",
          "text": [
            "Thread 0 (0, 0) is adding elements at index 0\n",
            "Thread 1 (0, 0) is adding elements at index 1\n",
            "Thread 2 (0, 0) is adding elements at index 2\n",
            "Thread 3 (0, 0) is adding elements at index 3\n",
            "Thread 4 (0, 0) is adding elements at index 4\n",
            "Thread 5 (0, 0) is adding elements at index 5\n",
            "Thread 6 (0, 0) is adding elements at index 6\n",
            "Thread 7 (0, 0) is adding elements at index 7\n",
            "Thread 8 (0, 0) is adding elements at index 8\n",
            "Thread 9 (0, 0) is adding elements at index 9\n"
          ]
        }
      ]
    },
    {
      "cell_type": "code",
      "source": [
        "%%writefile add.cu\n",
        "#include <cuda.h>\n",
        "#include <cuda_runtime.h>\n",
        "#include <stdio.h>\n",
        "\n",
        "__global__ void add_arrays(int *a, int *b, int *c, int M, int N) {\n",
        "    int row = blockIdx.y * blockDim.y + threadIdx.y;\n",
        "    int col = blockIdx.x * blockDim.x + threadIdx.x;\n",
        "\n",
        "    int idx = row * N + col;\n",
        "\n",
        "    if (row < M && col < N) {\n",
        "        c[idx] = a[idx] + b[idx];\n",
        "        printf(\"Thread %d (%d, %d) is adding elements at index %d\\n\",\n",
        "               blockIdx.x * blockDim.x + threadIdx.x + blockIdx.y * blockDim.y * gridDim.x + threadIdx.y,\n",
        "               blockIdx.x, blockIdx.y, idx);\n",
        "    }\n",
        "}\n",
        "\n",
        "int main() {\n",
        "    int M = 10; // Number of rows\n",
        "    int N = 10; // Number of columns\n",
        "\n",
        "    // Allocate host memory for arrays a and b\n",
        "    int *h_a, *h_b;\n",
        "    h_a = (int *)malloc(M * N * sizeof(int));\n",
        "    h_b = (int *)malloc(M * N * sizeof(int));\n",
        "    if (h_a == nullptr || h_b == nullptr) {\n",
        "        fprintf(stderr, \"Failed to allocate host memory!\\n\");\n",
        "        return 1;\n",
        "    }\n",
        "\n",
        "    // Initialize arrays a and b with sample values (replace with your initialization logic)\n",
        "    for (int i = 0; i < M; i++) {\n",
        "        for (int j = 0; j < N; j++) {\n",
        "            h_a[i * N + j] = i * j;\n",
        "            h_b[i * N + j] = i + j;\n",
        "        }\n",
        "    }\n",
        "\n",
        "    // Allocate device memory for arrays a, b, and c\n",
        "    int *d_a, *d_b, *d_c;\n",
        "    cudaMalloc((void **)&d_a, M * N * sizeof(int));\n",
        "    cudaMalloc((void **)&d_b, M * N * sizeof(int));\n",
        "    cudaMalloc((void **)&d_c, M * N * sizeof(int));\n",
        "    if (d_a == nullptr || d_b == nullptr || d_c == nullptr) {\n",
        "        fprintf(stderr, \"Failed to allocate device memory!\\n\");\n",
        "        cudaFree(h_a);\n",
        "        cudaFree(h_b);\n",
        "        return 1;\n",
        "    }\n",
        "\n",
        "    // Copy data from host to device memory\n",
        "    cudaMemcpy(d_a, h_a, M * N * sizeof(int), cudaMemcpyHostToDevice);\n",
        "    cudaMemcpy(d_b, h_b, M * N * sizeof(int), cudaMemcpyHostToDevice);\n",
        "    cudaDeviceSynchronize(); // Ensure data transfer is complete\n",
        "\n",
        "    // Define kernel launch parameters\n",
        "    int threadsPerBlock = 256; // Adjust based on your GPU architecture\n",
        "    dim3 blocksInGrid(ceil(float(N) / threadsPerBlock), ceil(float(M) / threadsPerBlock));\n",
        "\n",
        "    // Launch the kernel\n",
        "    add_arrays<<<blocksInGrid, threadsPerBlock>>>(d_a, d_b, d_c, M, N);\n",
        "\n",
        "    // Wait for kernel execution to finish\n",
        "    cudaDeviceSynchronize();\n",
        "\n",
        "    // Free device memory\n",
        "    cudaFree(d_a);\n",
        "    cudaFree(d_b);\n",
        "    cudaFree(d_c);\n",
        "\n",
        "    // Free host memory\n",
        "    free(h_a);\n",
        "    free(h_b);\n",
        "\n",
        "    return 0;\n",
        "}"
      ],
      "metadata": {
        "colab": {
          "base_uri": "https://localhost:8080/"
        },
        "id": "TAAD5x1lW1Gh",
        "outputId": "e5fc9006-bd59-49f8-c9fa-f665f137e9d2"
      },
      "execution_count": 9,
      "outputs": [
        {
          "output_type": "stream",
          "name": "stdout",
          "text": [
            "Writing add.cu\n"
          ]
        }
      ]
    },
    {
      "cell_type": "code",
      "source": [
        "!nvcc add.cu"
      ],
      "metadata": {
        "id": "m6e_DM6JXJSt"
      },
      "execution_count": 11,
      "outputs": []
    },
    {
      "cell_type": "code",
      "source": [
        "!./a.out"
      ],
      "metadata": {
        "colab": {
          "base_uri": "https://localhost:8080/"
        },
        "id": "neQnFOypXSw4",
        "outputId": "fecbc85d-9e8b-485a-fa72-3325f25df93a"
      },
      "execution_count": 12,
      "outputs": [
        {
          "output_type": "stream",
          "name": "stdout",
          "text": [
            "Thread 0 (0, 0) is adding elements at index 0\n",
            "Thread 1 (0, 0) is adding elements at index 1\n",
            "Thread 2 (0, 0) is adding elements at index 2\n",
            "Thread 3 (0, 0) is adding elements at index 3\n",
            "Thread 4 (0, 0) is adding elements at index 4\n",
            "Thread 5 (0, 0) is adding elements at index 5\n",
            "Thread 6 (0, 0) is adding elements at index 6\n",
            "Thread 7 (0, 0) is adding elements at index 7\n",
            "Thread 8 (0, 0) is adding elements at index 8\n",
            "Thread 9 (0, 0) is adding elements at index 9\n"
          ]
        }
      ]
    }
  ]
}