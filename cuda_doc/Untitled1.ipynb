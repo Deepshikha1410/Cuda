{
  "nbformat": 4,
  "nbformat_minor": 0,
  "metadata": {
    "colab": {
      "provenance": []
    },
    "kernelspec": {
      "name": "python3",
      "display_name": "Python 3"
    },
    "language_info": {
      "name": "python"
    }
  },
  "cells": [
    {
      "cell_type": "code",
      "execution_count": 1,
      "metadata": {
        "colab": {
          "base_uri": "https://localhost:8080/"
        },
        "id": "IX79nYffoc6T",
        "outputId": "8c9a5b50-55f1-4a19-f1f8-fe604d7a2373"
      },
      "outputs": [
        {
          "output_type": "stream",
          "name": "stdout",
          "text": [
            "Writing open_cuda.cu\n"
          ]
        }
      ],
      "source": [
        "%%writefile open_cuda.cu\n",
        "#include <stdio.h>\n",
        "#include <cuda.h>\n",
        "#include <cuda_runtime.h>\n",
        "\n",
        "#define N 10000  // Adjust array size as needed\n",
        "\n",
        "__global__ void elementWiseSum(float *A, float *B) {\n",
        "  int i = blockIdx.x * blockDim.x + threadIdx.x;\n",
        "  if (i < N) {\n",
        "    A[i] = A[i] + B[i];\n",
        "  }\n",
        "}\n",
        "\n",
        "__global__ void squareElements(float *A) {\n",
        "  int i = blockIdx.x * blockDim.x + threadIdx.x;\n",
        "  if (i < N) {\n",
        "    A[i] = A[i] * A[i];\n",
        "  }\n",
        "}\n",
        "\n",
        "int main() {\n",
        "  // Allocate memory on the host for arrays A and B\n",
        "  float *A_h, *B_h;\n",
        "  cudaMalloc(&A_h, N * sizeof(float));\n",
        "  cudaMalloc(&B_h, N * sizeof(float));\n",
        "\n",
        "  // Initialize arrays A and B on the host (assuming initialization is not performance-critical)\n",
        "  for (int i = 0; i < N; ++i) {\n",
        "    A_h[i] = i * 0.1f;\n",
        "    B_h[i] = i * 0.1f;\n",
        "  }\n",
        "\n",
        "  // Allocate memory on the device (GPU) for arrays A and B\n",
        "  float *A_d, *B_d;\n",
        "  cudaMalloc(&A_d, N * sizeof(float));\n",
        "  cudaMalloc(&B_d, N * sizeof(float));\n",
        "\n",
        "  // Start timing\n",
        "  cudaEvent_t start, stop;\n",
        "  cudaEventCreate(&start);\n",
        "  cudaEventCreate(&stop);\n",
        "  cudaEventRecord(start, 0);\n",
        "\n",
        "  // Transfer data from host to device\n",
        "  cudaMemcpy(A_d, A_h, N * sizeof(float), cudaMemcpyHostToDevice);\n",
        "  cudaMemcpy(B_d, B_h, N * sizeof(float), cudaMemcpyHostToDevice);\n",
        "\n",
        "  // Launch element-wise sum kernel\n",
        "  int threadsPerBlock = 256;  // Adjust as needed based on GPU architecture\n",
        "  int blocksPerGrid = (N + threadsPerBlock - 1) / threadsPerBlock;\n",
        "  elementWiseSum<<<blocksPerGrid, threadsPerBlock>>>(A_d, B_d);\n",
        "  cudaDeviceSynchronize();  // Wait for kernel to finish\n",
        "\n",
        "  // Launch square elements kernel\n",
        "  squareElements<<<blocksPerGrid, threadsPerBlock>>>(A_d);\n",
        "  cudaDeviceSynchronize();  // Wait for kernel to finish\n",
        "\n",
        "  // Transfer data back from device to host\n",
        "  cudaMemcpy(A_h, A_d, N * sizeof(float), cudaMemcpyDeviceToHost);\n",
        "\n",
        "  // Stop timing\n",
        "  cudaEventRecord(stop, 0);\n",
        "  cudaEventSynchronize(stop);\n",
        "  float elapsed_time_ms;\n",
        "  cudaEventElapsedTime(&elapsed_time_ms, start, stop);\n",
        "\n",
        "  cudaFree(start);\n",
        "  cudaFree(stop);\n",
        "\n",
        "  // Print results\n",
        "  printf(\"Required elements of (A+B):\\n\");\n",
        "  // ... (print results as before)\n",
        "\n",
        "  // Free memory on the host and device\n",
        "  cudaFree(A_h);\n",
        "  cudaFree(B_h);\n",
        "  cudaFree(A_d);\n",
        "  cudaFree(B_d);\n",
        "\n",
        "  return 0;\n",
        "}\n"
      ]
    },
    {
      "cell_type": "code",
      "source": [
        "!nvcc open_cuda.cu"
      ],
      "metadata": {
        "id": "V3ug2b9uooY8"
      },
      "execution_count": 2,
      "outputs": []
    },
    {
      "cell_type": "code",
      "source": [
        "!./open_cuda.out"
      ],
      "metadata": {
        "colab": {
          "base_uri": "https://localhost:8080/"
        },
        "id": "jA7xn0y_o0Bq",
        "outputId": "f34302b4-5b9f-49f6-b949-4b19d9a0b549"
      },
      "execution_count": 4,
      "outputs": [
        {
          "output_type": "stream",
          "name": "stdout",
          "text": [
            "/bin/bash: line 1: ./open_cuda.out: No such file or directory\n"
          ]
        }
      ]
    }
  ]
}